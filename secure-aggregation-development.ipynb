{
 "cells": [
  {
   "cell_type": "code",
   "execution_count": null,
   "metadata": {},
   "outputs": [],
   "source": [
    "import tensorflow as tf\n",
    "import tensorflow_datasets as tfds\n",
    "import syft"
   ]
  },
  {
   "cell_type": "markdown",
   "metadata": {},
   "source": [
    "**(INTERNAL)**: Context here is that we've already convinced the attendees that we can do privacy-preserving EDA & data pre-processing, perhaps by demoing Cowbay or PySyft-Pandas. This means that we can load the data in more or less already processed form for this demo."
   ]
  },
  {
   "cell_type": "markdown",
   "metadata": {},
   "source": [
    "Build a remote tf.data pipeline _on each party_"
   ]
  },
  {
   "cell_type": "code",
   "execution_count": null,
   "metadata": {},
   "outputs": [],
   "source": [
    "# specify the players involved\n",
    "model_owner = tfe.Player('model_owner')\n",
    "data_owners = [\n",
    "    tfe.Player('data_owner_0'),\n",
    "    tfe.Player('data_owner_1'),\n",
    "    tfe.Player('data_owner_2'),\n",
    "]"
   ]
  },
  {
   "cell_type": "code",
   "execution_count": null,
   "metadata": {},
   "outputs": [],
   "source": [
    "train_data_sources = [data_owner.build_data_pipeline() for data_owner in data_owners]\n",
    "val_data_sources = [data_owner.build_validation_pipeline() for data_owner in data_owners]"
   ]
  },
  {
   "cell_type": "markdown",
   "metadata": {},
   "source": [
    "Demonstration of debugging on a particular data owner with syft-tf.\n",
    "\n",
    "(This will likely be in a separate notebook.)"
   ]
  },
  {
   "cell_type": "code",
   "execution_count": null,
   "metadata": {},
   "outputs": [],
   "source": [
    "def build_model():\n",
    "    model = tfe.keras.Sequential()\n",
    "    model.add(tfe.keras.Dense(10))\n",
    "    model.compile(loss='mse', optimizer='sgd')\n",
    "    return model"
   ]
  },
  {
   "cell_type": "code",
   "execution_count": null,
   "metadata": {},
   "outputs": [],
   "source": [
    "model = build_model().send(data_owners[0])\n",
    "\n",
    "# these are just checks to make sure the data works with the model :)\n",
    "model.fit(train_data_sources[0], epochs=1, batch_size=128)\n",
    "model.evaluate(val_data_source[0], batch_size=1000)"
   ]
  },
  {
   "cell_type": "markdown",
   "metadata": {},
   "source": [
    "When data is distributed in the wild, it will take much more debugging to make sure the data is all properly formated across all machines. This is also a downside of FL, since data is often not identically distributed across different parties (e.g. different labeling, different generating distributions, etc.).\n",
    "\n",
    "But since we're using a clean dataset, we can skip much of that work."
   ]
  },
  {
   "cell_type": "markdown",
   "metadata": {},
   "source": [
    "## Main event\n",
    "Once we're convinced the model works with each of the data sources, we can switch over to using TFE's secure aggregation."
   ]
  },
  {
   "cell_type": "markdown",
   "metadata": {},
   "source": [
    "Specify aggregation op"
   ]
  },
  {
   "cell_type": "code",
   "execution_count": null,
   "metadata": {},
   "outputs": [],
   "source": [
    "# ... alternatively we could have instantiated it explicitly,\n",
    "# resulting in exactly the same thing\n",
    "aggregation = tfe.functionalities.AdditiveSecureAverage(\n",
    "    compute_players=data_owners,\n",
    "    output_receiver=model_owner)"
   ]
  },
  {
   "cell_type": "markdown",
   "metadata": {},
   "source": [
    "Basic Keras `model.fit()` training"
   ]
  },
  {
   "cell_type": "code",
   "execution_count": null,
   "metadata": {},
   "outputs": [],
   "source": [
    "with tfe.protocol.FederatedLearning(model_owner, aggregation):\n",
    "    model = build_model()\n",
    "    \n",
    "model.fit(data_sources, epochs=10, batch_size=128)"
   ]
  },
  {
   "cell_type": "markdown",
   "metadata": {},
   "source": [
    "Remote validation & testing"
   ]
  },
  {
   "cell_type": "code",
   "execution_count": null,
   "metadata": {},
   "outputs": [],
   "source": [
    "model.evaluate(val_data_sources)"
   ]
  },
  {
   "cell_type": "markdown",
   "metadata": {},
   "source": [
    "Custom training loop"
   ]
  },
  {
   "cell_type": "code",
   "execution_count": null,
   "metadata": {},
   "outputs": [],
   "source": [
    "# TODO"
   ]
  },
  {
   "cell_type": "markdown",
   "metadata": {},
   "source": [
    "Model subclassing?"
   ]
  },
  {
   "cell_type": "code",
   "execution_count": null,
   "metadata": {},
   "outputs": [],
   "source": [
    "# TODO, maybe combine with the above"
   ]
  },
  {
   "cell_type": "markdown",
   "metadata": {},
   "source": [
    "Private predictions with TFE or TF Trusted"
   ]
  },
  {
   "cell_type": "code",
   "execution_count": null,
   "metadata": {},
   "outputs": [],
   "source": [
    "# (can be in a separate notebook/script, or maybe we can launch/drive it from here if we want)"
   ]
  }
 ],
 "metadata": {
  "kernelspec": {
   "display_name": "Python 3",
   "language": "python",
   "name": "python3"
  },
  "language_info": {
   "codemirror_mode": {
    "name": "ipython",
    "version": 3
   },
   "file_extension": ".py",
   "mimetype": "text/x-python",
   "name": "python",
   "nbconvert_exporter": "python",
   "pygments_lexer": "ipython3",
   "version": "3.7.4"
  }
 },
 "nbformat": 4,
 "nbformat_minor": 2
}
