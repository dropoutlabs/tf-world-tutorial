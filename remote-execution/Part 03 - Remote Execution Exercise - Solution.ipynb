{
 "cells": [
  {
   "cell_type": "markdown",
   "metadata": {},
   "source": [
    "# Part 03 - Remote Execution Exercise  - Solution"
   ]
  },
  {
   "cell_type": "markdown",
   "metadata": {},
   "source": [
    "In the last notebook, we trained a model to classify images of clothing. Now let's remotely train a model to perform sentiment analysis on the [IMDB dataset](https://www.tensorflow.org/api_docs/python/tf/keras/datasets/imdb)."
   ]
  },
  {
   "cell_type": "code",
   "execution_count": 1,
   "metadata": {},
   "outputs": [],
   "source": [
    "import tensorflow as tf\n",
    "import syft as sy\n",
    "\n",
    "hook = sy.TensorFlowHook(tf)\n",
    "bob = sy.VirtualWorker(hook, id=\"bob\")"
   ]
  },
  {
   "cell_type": "markdown",
   "metadata": {},
   "source": [
    "The dataset has already been processed, so now you just have to send the data to the virtual worker 'Bob' and train your model."
   ]
  },
  {
   "cell_type": "code",
   "execution_count": 2,
   "metadata": {},
   "outputs": [
    {
     "name": "stdout",
     "output_type": "stream",
     "text": [
      "Loading data...\n",
      "25000 train sequences\n",
      "25000 test sequences\n",
      "Pad sequences (samples x time)\n",
      "x_train shape: (25000, 80)\n",
      "x_test shape: (25000, 80)\n"
     ]
    }
   ],
   "source": [
    "from tensorflow.keras.datasets import imdb\n",
    "from tensorflow.keras.preprocessing import sequence\n",
    "\n",
    "max_features = 20000\n",
    "# cut texts after this number of words (among top max_features most common words)\n",
    "maxlen = 80\n",
    "batch_size = 32\n",
    "\n",
    "print('Loading data...')\n",
    "(x_train, y_train), (x_test, y_test) = imdb.load_data(num_words=max_features)\n",
    "print(len(x_train), 'train sequences')\n",
    "print(len(x_test), 'test sequences')\n",
    "\n",
    "print('Pad sequences (samples x time)')\n",
    "x_train = sequence.pad_sequences(x_train, maxlen=maxlen)\n",
    "x_test = sequence.pad_sequences(x_test, maxlen=maxlen)\n",
    "\n",
    "x_train, y_train = tf.convert_to_tensor(x_train), tf.convert_to_tensor(y_train)\n",
    "x_test, y_test = tf.convert_to_tensor(x_test), tf.convert_to_tensor(y_test)\n",
    "\n",
    "print('x_train shape:', x_train.shape)\n",
    "print('x_test shape:', x_test.shape)"
   ]
  },
  {
   "cell_type": "markdown",
   "metadata": {},
   "source": [
    "## Train your model with remote execution:"
   ]
  },
  {
   "cell_type": "code",
   "execution_count": 3,
   "metadata": {},
   "outputs": [],
   "source": [
    "# Send the data to\n",
    "x_train_ptr = x_train.send(bob)\n",
    "y_train_ptr = y_train.send(bob)"
   ]
  },
  {
   "cell_type": "code",
   "execution_count": 4,
   "metadata": {},
   "outputs": [],
   "source": [
    "# Source code https://github.com/keras-team/keras/blob/master/examples/imdb_lstm.py\n",
    "from tensorflow.keras.models import Sequential\n",
    "from tensorflow.keras.layers import Dense, Embedding\n",
    "from tensorflow.keras.layers import LSTM\n",
    "\n",
    "model = Sequential()\n",
    "model.add(Embedding(max_features, 128))\n",
    "model.add(LSTM(128, dropout=0.2))\n",
    "model.add(Dense(1, activation='sigmoid'))\n",
    "\n",
    "model.compile(loss='binary_crossentropy',\n",
    "              optimizer='adam',\n",
    "              metrics=['accuracy'])"
   ]
  },
  {
   "cell_type": "code",
   "execution_count": 5,
   "metadata": {},
   "outputs": [
    {
     "name": "stderr",
     "output_type": "stream",
     "text": [
      "WARNING: Logging before flag parsing goes to stderr.\n",
      "W1023 21:41:51.983034 4316575168 deprecation.py:506] From /anaconda3/envs/tf20/lib/python3.7/site-packages/tensorflow_core/python/ops/resource_variable_ops.py:1781: calling BaseResourceVariable.__init__ (from tensorflow.python.ops.resource_variable_ops) with constraint is deprecated and will be removed in a future version.\n",
      "Instructions for updating:\n",
      "If using Keras pass *_constraint arguments to layers.\n"
     ]
    },
    {
     "name": "stdout",
     "output_type": "stream",
     "text": [
      "Train on 22500 samples, validate on 2500 samples\n",
      "Epoch 1/15\n",
      "22500/22500 [==============================] - 59s 3ms/sample - loss: 0.4345 - accuracy: 0.7987 - val_loss: 0.3975 - val_accuracy: 0.8232\n",
      "Epoch 2/15\n",
      "22500/22500 [==============================] - 75s 3ms/sample - loss: 0.2530 - accuracy: 0.8978 - val_loss: 0.3799 - val_accuracy: 0.8244\n",
      "Epoch 3/15\n",
      "22500/22500 [==============================] - 74s 3ms/sample - loss: 0.1665 - accuracy: 0.9387 - val_loss: 0.4993 - val_accuracy: 0.8184\n",
      "Epoch 4/15\n",
      "22500/22500 [==============================] - 61s 3ms/sample - loss: 0.1076 - accuracy: 0.9610 - val_loss: 0.5065 - val_accuracy: 0.8208\n",
      "Epoch 5/15\n",
      "22500/22500 [==============================] - 60s 3ms/sample - loss: 0.0811 - accuracy: 0.9710 - val_loss: 0.6291 - val_accuracy: 0.8348\n",
      "Epoch 6/15\n",
      "22500/22500 [==============================] - 72s 3ms/sample - loss: 0.0599 - accuracy: 0.9804 - val_loss: 0.7197 - val_accuracy: 0.8188\n",
      "Epoch 7/15\n",
      "22500/22500 [==============================] - 64s 3ms/sample - loss: 0.0443 - accuracy: 0.9848 - val_loss: 0.6304 - val_accuracy: 0.8056\n",
      "Epoch 8/15\n",
      "22500/22500 [==============================] - 64s 3ms/sample - loss: 0.0286 - accuracy: 0.9901 - val_loss: 0.8901 - val_accuracy: 0.8104\n",
      "Epoch 9/15\n",
      "22500/22500 [==============================] - 61s 3ms/sample - loss: 0.0328 - accuracy: 0.9894 - val_loss: 0.9145 - val_accuracy: 0.8244\n",
      "Epoch 10/15\n",
      "22500/22500 [==============================] - 60s 3ms/sample - loss: 0.0203 - accuracy: 0.9933 - val_loss: 0.9685 - val_accuracy: 0.8232\n",
      "Epoch 11/15\n",
      "22500/22500 [==============================] - 64s 3ms/sample - loss: 0.0153 - accuracy: 0.9952 - val_loss: 1.0930 - val_accuracy: 0.8208\n",
      "Epoch 12/15\n",
      "22500/22500 [==============================] - 57s 3ms/sample - loss: 0.0168 - accuracy: 0.9949 - val_loss: 0.9230 - val_accuracy: 0.8176\n",
      "Epoch 13/15\n",
      "22500/22500 [==============================] - 61s 3ms/sample - loss: 0.0197 - accuracy: 0.9945 - val_loss: 0.9997 - val_accuracy: 0.8108\n",
      "Epoch 14/15\n",
      "22500/22500 [==============================] - 75s 3ms/sample - loss: 0.0083 - accuracy: 0.9975 - val_loss: 1.0446 - val_accuracy: 0.8124\n",
      "Epoch 15/15\n",
      "22500/22500 [==============================] - 58s 3ms/sample - loss: 0.0052 - accuracy: 0.9987 - val_loss: 1.1105 - val_accuracy: 0.8132\n"
     ]
    },
    {
     "data": {
      "text/plain": [
       "<tensorflow.python.keras.callbacks.History at 0x154d15f28>"
      ]
     },
     "execution_count": 5,
     "metadata": {},
     "output_type": "execute_result"
    }
   ],
   "source": [
    "model_ptr = model.send(bob)\n",
    "\n",
    "model_ptr.fit(x_train_ptr, y_train_ptr, \n",
    "              batch_size=batch_size, \n",
    "              epochs=15, \n",
    "              validation_split=0.1)"
   ]
  }
 ],
 "metadata": {
  "kernelspec": {
   "display_name": "Python 3",
   "language": "python",
   "name": "python3"
  },
  "language_info": {
   "codemirror_mode": {
    "name": "ipython",
    "version": 3
   },
   "file_extension": ".py",
   "mimetype": "text/x-python",
   "name": "python",
   "nbconvert_exporter": "python",
   "pygments_lexer": "ipython3",
   "version": "3.7.2"
  }
 },
 "nbformat": 4,
 "nbformat_minor": 2
}
